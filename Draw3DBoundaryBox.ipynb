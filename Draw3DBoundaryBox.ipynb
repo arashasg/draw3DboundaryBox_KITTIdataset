{
  "nbformat": 4,
  "nbformat_minor": 0,
  "metadata": {
    "colab": {
      "name": "Draw3DBoundaryBox.ipynb",
      "provenance": [],
      "collapsed_sections": [],
      "authorship_tag": "ABX9TyPT53Dx0ZTbcZm283gQ1MGq",
      "include_colab_link": true
    },
    "kernelspec": {
      "name": "python3",
      "display_name": "Python 3"
    },
    "language_info": {
      "name": "python"
    }
  },
  "cells": [
    {
      "cell_type": "markdown",
      "metadata": {
        "id": "view-in-github",
        "colab_type": "text"
      },
      "source": [
        "<a href=\"https://colab.research.google.com/github/arashasg/draw3DboundaryBox_KITTIdataset/blob/main/Draw3DBoundaryBox.ipynb\" target=\"_parent\"><img src=\"https://colab.research.google.com/assets/colab-badge.svg\" alt=\"Open In Colab\"/></a>"
      ]
    },
    {
      "cell_type": "code",
      "metadata": {
        "colab": {
          "base_uri": "https://localhost:8080/"
        },
        "id": "WdEkAwwWkeSU",
        "outputId": "2463816e-5b20-4d5d-f9c6-91d18d09a843"
      },
      "source": [
        "from google.colab import drive \n",
        "drive.mount('/content/gdrive')"
      ],
      "execution_count": null,
      "outputs": [
        {
          "output_type": "stream",
          "text": [
            "Mounted at /content/gdrive\n"
          ],
          "name": "stdout"
        }
      ]
    },
    {
      "cell_type": "markdown",
      "metadata": {
        "id": "RQac5Q7xZK0F"
      },
      "source": [
        "Getting tracking image data for camera 2:"
      ]
    },
    {
      "cell_type": "code",
      "metadata": {
        "id": "vCRrgLTNmNrS"
      },
      "source": [
        "!wget https://s3.eu-central-1.amazonaws.com/avg-kitti/data_tracking_image_2.zip\n",
        "!unzip data_tracking_image_2.zip\n",
        "!ls -l training/image_2 | wc -l"
      ],
      "execution_count": null,
      "outputs": []
    },
    {
      "cell_type": "markdown",
      "metadata": {
        "id": "h9M1wZt8ZbpE"
      },
      "source": [
        "Getting tracking labels:"
      ]
    },
    {
      "cell_type": "code",
      "metadata": {
        "id": "q52uFV1JmN2a"
      },
      "source": [
        "!wget https://s3.eu-central-1.amazonaws.com/avg-kitti/data_tracking_label_2.zip\n",
        "! unzip data_tracking_label_2.zip\n",
        "!ls -l training/label_2 | wc -l"
      ],
      "execution_count": null,
      "outputs": []
    },
    {
      "cell_type": "markdown",
      "metadata": {
        "id": "GuiwFyw1Z9L-"
      },
      "source": [
        "Getting calibration matrices:"
      ]
    },
    {
      "cell_type": "code",
      "metadata": {
        "id": "lhOHKd_PZwA8"
      },
      "source": [
        "!wget https://s3.eu-central-1.amazonaws.com/avg-kitti/data_tracking_calib.zip\n",
        "! unzip data_tracking_calib.zip\n",
        "!ls -l training/label_2 | wc -l"
      ],
      "execution_count": null,
      "outputs": []
    },
    {
      "cell_type": "markdown",
      "metadata": {
        "id": "slEAO06NZj_a"
      },
      "source": [
        "Deleting zip files in order to save space on our colab disk:"
      ]
    },
    {
      "cell_type": "code",
      "metadata": {
        "id": "888cByLoyQeg"
      },
      "source": [
        "rm -rf data_tracking_image_2.zip data_tracking_label_2.zip data_tracking_calib.zip"
      ],
      "execution_count": null,
      "outputs": []
    },
    {
      "cell_type": "markdown",
      "metadata": {
        "id": "dkzvk5f3ayaO"
      },
      "source": [
        "Imports and Constants:"
      ]
    },
    {
      "cell_type": "code",
      "metadata": {
        "id": "U4lVEB2tycpd"
      },
      "source": [
        "import cv2\n",
        "from google.colab.patches import cv2_imshow\n",
        "import numpy as np\n",
        "import pandas as pd\n",
        "import os\n",
        "from pathlib import Path\n",
        "from zipfile import ZipFile\n",
        "import os\n",
        "from os.path import basename\n",
        "\n",
        "\n",
        "\n",
        "image_dir = '/content/training/image_02/'\n",
        "label_dir = '/content/training/label_02/'\n",
        "calib_dir = '/content/training/calib/'\n",
        "drawn_images_dir = '/content/drawn_images/'\n",
        "number_of_drives = len(os.listdir(calib_dir))\n"
      ],
      "execution_count": null,
      "outputs": []
    },
    {
      "cell_type": "markdown",
      "metadata": {
        "id": "SabYUe1mQbEZ"
      },
      "source": [
        "Using this function we can read the labels into DataFrame:"
      ]
    },
    {
      "cell_type": "code",
      "metadata": {
        "id": "PUU-Pd2F4Kr6"
      },
      "source": [
        "def read_label_3d(label_file):\n",
        "    \"\"\"Read and parse label information of kitti 3d object detection dataset.\n",
        "  \n",
        "    :param label_file: filname like kitti_3d/{training,testing}/label_2/id.txt\n",
        "    Returns Pandas DataFrame\n",
        "    Data Format Description\n",
        "    =======================\n",
        "    The data for training and testing can be found in the corresponding folders.\n",
        "    The sub-folders are structured as follows:\n",
        "      - image_02/ contains the left color camera images (png)\n",
        "      - label_02/ contains the left color camera label files (plain text files)\n",
        "      - calib/ contains the calibration for all four cameras (plain text file)\n",
        "    The label files contain the following information, which can be read and\n",
        "    written using the matlab tools (readLabels.m, writeLabels.m) provided within\n",
        "    this devkit. All values (numerical or strings) are separated via spaces,\n",
        "    each row corresponds to one object. The 15 columns represent:\n",
        "    #Values    Name      Description\n",
        "    ----------------------------------------------------------------------------\n",
        "       1    type         Describes the type of object: 'Car', 'Van', 'Truck',\n",
        "                         'Pedestrian', 'Person_sitting', 'Cyclist', 'Tram',\n",
        "                         'Misc' or 'DontCare'\n",
        "       1    truncated    Float from 0 (non-truncated) to 1 (truncated), where\n",
        "                         truncated refers to the object leaving image boundaries\n",
        "       1    occluded     Integer (0,1,2,3) indicating occlusion state:\n",
        "                         0 = fully visible, 1 = partly occluded\n",
        "                         2 = largely occluded, 3 = unknown\n",
        "       1    alpha        Observation angle of object, ranging [-pi..pi]\n",
        "       4    bbox         2D bounding box of object in the image (0-based index):\n",
        "                         contains left, top, right, bottom pixel coordinates\n",
        "       3    dimensions   3D object dimensions: height, width, length (in meters)\n",
        "       3    location     3D object location x,y,z in camera coordinates (in meters)\n",
        "       1    rotation_y   Rotation ry around Y-axis in camera coordinates [-pi..pi]\n",
        "       1    score        Only for results: Float, indicating confidence in\n",
        "                         detection, needed for p/r curves, higher is better.\n",
        "    \"\"\"\n",
        "    return pd.read_csv(label_file, sep=\" \", names=['frame_number','tracking_id','label', 'truncated', 'occluded', 'alpha', 'bbox_xmin', 'bbox_ymin', 'bbox_xmax', 'bbox_ymax', 'dim_height', 'dim_width', 'dim_length', 'loc_x', 'loc_y', 'loc_z', 'rotation_y', 'score'])"
      ],
      "execution_count": null,
      "outputs": []
    },
    {
      "cell_type": "markdown",
      "metadata": {
        "id": "x9xbssiNR20C"
      },
      "source": [
        "This function receives the dimensions, location, and the yaw of boundary box and returns it in cam2 coordinates:"
      ]
    },
    {
      "cell_type": "code",
      "metadata": {
        "id": "UAS111OnOAah"
      },
      "source": [
        "# 3D box under cam2 coordinates\n",
        "def compute_3D_box_cam2(h,w,l,x,y,z,yaw):\n",
        "  '''\n",
        "  Return:3Xn in cam2 coordinate\n",
        "  '''\n",
        "  # Create rotation matrix R\n",
        "  R = np.array([[np.cos(yaw), 0, np.sin(yaw)],[0,1,0],[-np.sin(yaw),0,np.cos(yaw)]])\n",
        "  # Calculate 8 vertex coordinates\n",
        "  x_corners = [l/2,l/2,-l/2,-l/2,l/2,l/2,-l/2,-l/2]\n",
        "  y_corners = [0,0,0,0,-h,-h,-h,-h]\n",
        "  z_corners = [w/2,-w/2,-w/2,w/2,w/2,-w/2,-w/2,w/2]\n",
        "  # Use rotation matrix to transform coordinates\n",
        "  corners_3d_cam2 = np.dot(R, np.vstack([x_corners, y_corners, z_corners]))\n",
        "  # Finally add the center point\n",
        "  corners_3d_cam2 += np.vstack([x, y, z])\n",
        "  return corners_3d_cam2"
      ],
      "execution_count": null,
      "outputs": []
    },
    {
      "cell_type": "markdown",
      "metadata": {
        "id": "huMEmvTZQMFl"
      },
      "source": [
        "This part simply reads calibration file from the path specified:"
      ]
    },
    {
      "cell_type": "code",
      "metadata": {
        "id": "duj0MfkTV7t2"
      },
      "source": [
        "def calibration_file_p2(path):\n",
        "  lines = open(path,\"r\").readlines()\n",
        "  line2 = lines[2].split()\n",
        "  values = np.zeros((3,4))\n",
        "  for count,value in enumerate(line2[1:]):\n",
        "    values[ int(count/4) , count % 4] = value;\n",
        "  return values\n",
        "\n"
      ],
      "execution_count": null,
      "outputs": []
    },
    {
      "cell_type": "markdown",
      "metadata": {
        "id": "3RLYJf52QuHq"
      },
      "source": [
        "Given the image and a boundary box this function draw it on the image:"
      ]
    },
    {
      "cell_type": "code",
      "metadata": {
        "id": "NcOnWlolEb8b"
      },
      "source": [
        "def draw_box( img, box,p2 ):\n",
        "  l = box.dim_length\n",
        "  h = box.dim_height\n",
        "  w = box.dim_width\n",
        "  loc_x = box.loc_x\n",
        "  loc_y = box.loc_y\n",
        "  loc_z = box.loc_z\n",
        "  yaw = box.rotation_y\n",
        "  x_corners = np.array( [l/2, l/2, -l/2, -l/2,  l/2,  l/2, -l/2, -l/2] )\n",
        "  y_corners = np.array( [0,   0,    0,    0,   -h,   -h,   -h,   -h  ] )\n",
        "  z_corners = np.array( [w/2, -w/2, -w/2, w/2, w/2, -w/2, -w/2, w/2  ] )\n",
        "  x_corners =  x_corners + loc_x\n",
        "  y_corners = y_corners + loc_y\n",
        "  z_corners = z_corners + loc_z\n",
        "  corners_3d_cam2 = compute_3D_box_cam2(h, w, l, loc_x, loc_y, loc_z, yaw)\n",
        "  corners_3d_cam2 = np.vstack((corners_3d_cam2,np.ones((1,8))))\n",
        "  points = p2.dot( corners_3d_cam2)\n",
        "  finalPoints = []\n",
        "  for i in range(8):\n",
        "    temp = tuple( ((points[:2,i])/(points[2,i])).astype(int) )\n",
        "    finalPoints.append(temp)\n",
        "\n",
        "  img =cv2.line(img,finalPoints[0],finalPoints[1],(0,0,255),2)\n",
        "  img =cv2.line(img,finalPoints[1],finalPoints[2],(0,0,255),2)\n",
        "  img =cv2.line(img,finalPoints[2],finalPoints[3],(0,0,255),2)\n",
        "  img =cv2.line(img,finalPoints[3],finalPoints[0],(0,0,255),2)\n",
        "\n",
        "  img =cv2.line(img,finalPoints[4],finalPoints[5],(0,0,255),2)\n",
        "  img =cv2.line(img,finalPoints[5],finalPoints[6],(0,0,255),2)\n",
        "  img =cv2.line(img,finalPoints[6],finalPoints[7],(0,0,255),2)\n",
        "  img =cv2.line(img,finalPoints[7],finalPoints[4],(0,0,255),2)\n"
      ],
      "execution_count": null,
      "outputs": []
    },
    {
      "cell_type": "markdown",
      "metadata": {
        "id": "pYZzEoz_Q4rU"
      },
      "source": [
        "This function iterates over boundary boxes related to each frame:"
      ]
    },
    {
      "cell_type": "code",
      "metadata": {
        "id": "ZXPm85q7iegu"
      },
      "source": [
        "def draw_frame( dataFrame, driveNumber, frame_number, p2 ):\n",
        "  frame_data = dataFrame.loc[ (dataFrame.frame_number == frame_number) & (dataFrame.label != \"DontCare\") & (dataFrame.label != \"Pedestrian\") & (dataFrame.truncated == 0) ]\n",
        "  I = cv2.imread( image_dir + number_length_fixer(driveNumber) + \"/\" + number_length_fixer(frame_number,6) + \".png\" )\n",
        "  \n",
        "  for index, box in frame_data.iterrows():\n",
        "    draw_box(I,box,p2)\n",
        "  \n",
        "  return I\n",
        "\n",
        "def number_length_fixer(num, length = 4):\n",
        "  number_of_zero = length - len ( str(num) )\n",
        "  return \"\" + (\"0\" * number_of_zero) + str(num)\n",
        "\n"
      ],
      "execution_count": null,
      "outputs": []
    },
    {
      "cell_type": "markdown",
      "metadata": {
        "id": "1OSG6j8XRCOB"
      },
      "source": [
        "This function iterates over frames of specified input drive:"
      ]
    },
    {
      "cell_type": "code",
      "metadata": {
        "id": "-ojv894J3bPA"
      },
      "source": [
        "def draw_drive(drive_number):\n",
        "  labels = read_label_3d( label_dir + number_length_fixer(drive_number, 4) + \".txt\" )\n",
        "  p2 = calibration_file_p2(calib_dir + number_length_fixer(drive_number) + \".txt\")\n",
        "  number_of_frames = len(os.listdir( image_dir + number_length_fixer(drive_number,4) ))\n",
        "  Path(drawn_images_dir + number_length_fixer(drive_number) + \"/\").mkdir(parents=True, exist_ok=True)\n",
        "  for frame_number in range(number_of_frames):\n",
        "    I = draw_frame(labels, drive_number, frame_number, p2)\n",
        "    image_path = drawn_images_dir + number_length_fixer(drive_number) + \"/\" + number_length_fixer(frame_number,6) + \".png\"\n",
        "    cv2.imwrite( image_path , I ) \n",
        "  \n"
      ],
      "execution_count": null,
      "outputs": []
    },
    {
      "cell_type": "markdown",
      "metadata": {
        "id": "JXN3If-YRNxH"
      },
      "source": [
        "This function draws boundary boxes on all images of all of the drives:"
      ]
    },
    {
      "cell_type": "code",
      "metadata": {
        "id": "LZ1QtFksChOC"
      },
      "source": [
        "def draw_all():\n",
        "  for drive_number in range(number_of_drives):\n",
        "    draw_drive(drive_number)\n",
        "\n",
        "draw_all()"
      ],
      "execution_count": null,
      "outputs": []
    },
    {
      "cell_type": "code",
      "metadata": {
        "id": "utSI_OCDKiOC"
      },
      "source": [
        "with ZipFile('sampleDir.zip', 'w') as zipObj:\n",
        "   # Iterate over all the files in directory\n",
        "   for folderName, subfolders, filenames in os.walk(drawn_images_dir + \"0020/\"):\n",
        "       for filename in filenames:\n",
        "           #create complete filepath of file in directory\n",
        "           filePath = os.path.join(folderName, filename)\n",
        "           # Add file to zip\n",
        "           zipObj.write(filePath, basename(filePath))"
      ],
      "execution_count": null,
      "outputs": []
    }
  ]
}